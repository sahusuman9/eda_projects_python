{
 "cells": [
  {
   "cell_type": "markdown",
   "id": "d3d5b653-5f80-4f21-ae3d-6027f5e46a76",
   "metadata": {},
   "source": [
    "## E-commerce Transaction Data\n",
    "### Problem Statement:\n",
    "    -Clean the transaction dataset to remove:\n",
    "    -Customers with missing names.\n",
    "    -Products with empty names or prices.\n",
    "    -Invalid is_returned values (e.g., \"yes\"/\"no\" instead of True/False)."
   ]
  },
  {
   "cell_type": "code",
   "execution_count": 1,
   "id": "47b95753-e168-4ccf-ad46-e65de9a3916a",
   "metadata": {},
   "outputs": [],
   "source": [
    "import json"
   ]
  },
  {
   "cell_type": "code",
   "execution_count": 83,
   "id": "a8149e17-3b8e-4a65-8e8b-399c9878c0b9",
   "metadata": {},
   "outputs": [
    {
     "name": "stdout",
     "output_type": "stream",
     "text": [
      "data cleaned successfully\n"
     ]
    }
   ],
   "source": [
    "#load data func\n",
    "def load_data(filename):\n",
    "    with open(filename,'r') as f:\n",
    "        data = json.load(f)\n",
    "    return data\n",
    "\n",
    "def clean_data(data):\n",
    "    #remove data if any cutomer name or product name or price is missing\n",
    "    data = [record for record in data if record['customer_name'].strip() and record['product'].strip() and str(record['price']).strip()]\n",
    "\n",
    "    for record in data:\n",
    "        if record.get('is_returned') == str(True).lower:\n",
    "            record['is_returned'] = \"yes\"\n",
    "        elif record.get('is_returned') == \"yes\":\n",
    "            continue\n",
    "        else:\n",
    "            record['is_returned'] = \"no\"\n",
    "    return data\n",
    "\n",
    "# for record in data:\n",
    "#     print(record.get('is_returned'))\n",
    "\n",
    "#load data\n",
    "data = load_data(\"ecommerce_data.json\")\n",
    "data = clean_data(data)\n",
    "json.dump(data, open(\"cleaned_ecommerce_data.json\", 'w'), indent=4)\n",
    "print(\"data cleaned successfully\")"
   ]
  },
  {
   "cell_type": "code",
   "execution_count": null,
   "id": "20db8a00-c141-4200-adcb-21ce37518069",
   "metadata": {},
   "outputs": [],
   "source": []
  }
 ],
 "metadata": {
  "kernelspec": {
   "display_name": "Python 3 (ipykernel)",
   "language": "python",
   "name": "python3"
  },
  "language_info": {
   "codemirror_mode": {
    "name": "ipython",
    "version": 3
   },
   "file_extension": ".py",
   "mimetype": "text/x-python",
   "name": "python",
   "nbconvert_exporter": "python",
   "pygments_lexer": "ipython3",
   "version": "3.13.2"
  }
 },
 "nbformat": 4,
 "nbformat_minor": 5
}
