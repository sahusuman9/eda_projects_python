{
 "cells": [
  {
   "cell_type": "markdown",
   "id": "cafc710d-07c9-4fa4-b7b0-c14b6311b8af",
   "metadata": {},
   "source": [
    "# Retail Store Inventory\n",
    "### Problem Statement: Clean the inventory data by:\n",
    "    -Removing items with empty names or negative stock.\n",
    "    -Setting missing prices to a default (e.g., 100).\n",
    "    -Ensuring categories are not empty."
   ]
  },
  {
   "cell_type": "code",
   "execution_count": 1,
   "id": "e33d77d6-ab45-4e35-8d9d-eabdb1ccf648",
   "metadata": {},
   "outputs": [],
   "source": [
    "import json"
   ]
  },
  {
   "cell_type": "code",
   "execution_count": 22,
   "id": "bf010378-ec0c-4a04-baaa-1956185995a8",
   "metadata": {},
   "outputs": [
    {
     "name": "stdout",
     "output_type": "stream",
     "text": [
      "data cleaned succesfully\n"
     ]
    }
   ],
   "source": [
    "def load_data(filename):\n",
    "    with open(filename, 'r') as f:\n",
    "        data = json.load(f)\n",
    "    return data\n",
    "\n",
    "def clean_data(data):\n",
    "    data = [record for record in data if str(record['item_name']).strip()]\n",
    "    data = [record for record in data if str(record['category']).strip()]\n",
    "    data = [record for record in data if record.get('stock') is not None and record.get('stock', 0) > 0]\n",
    "\n",
    "    for record in data:\n",
    "        if record.get('price_per_unit') == \"\" or record.get('price_per_unit') == 0:\n",
    "            record['price_per_unit'] = 100\n",
    "    return data\n",
    "\n",
    "data = load_data('inventory_data.json')\n",
    "data = clean_data(data)\n",
    "json.dump(data,open('cleaned_retail_data.json', 'w'), indent = 4)\n",
    "print(\"data cleaned succesfully\")"
   ]
  },
  {
   "cell_type": "code",
   "execution_count": null,
   "id": "f22e7637-efc3-4685-b2f8-edd0bbf0cff1",
   "metadata": {},
   "outputs": [],
   "source": []
  }
 ],
 "metadata": {
  "kernelspec": {
   "display_name": "Python 3 (ipykernel)",
   "language": "python",
   "name": "python3"
  },
  "language_info": {
   "codemirror_mode": {
    "name": "ipython",
    "version": 3
   },
   "file_extension": ".py",
   "mimetype": "text/x-python",
   "name": "python",
   "nbconvert_exporter": "python",
   "pygments_lexer": "ipython3",
   "version": "3.13.2"
  }
 },
 "nbformat": 4,
 "nbformat_minor": 5
}
