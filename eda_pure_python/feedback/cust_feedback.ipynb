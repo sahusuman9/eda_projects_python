{
 "cells": [
  {
   "cell_type": "markdown",
   "id": "66d5f7c3-a031-422b-8f24-85eab0130bcf",
   "metadata": {},
   "source": [
    "# Customer Feedback Dataset\n",
    "### Problem Statement: Clean feedback by:\n",
    "    -Removing entries with missing customer names or products.\n",
    "    -Removing ratings that are missing or not between 1–5.\n",
    "    -Replacing empty feedback text with \"No Feedback\"."
   ]
  },
  {
   "cell_type": "code",
   "execution_count": 1,
   "id": "2d4bfe50-975e-47c9-badd-ca63d7fbf48b",
   "metadata": {},
   "outputs": [],
   "source": [
    "import json"
   ]
  },
  {
   "cell_type": "code",
   "execution_count": 69,
   "id": "d453f70b-34f9-4b4e-b1d8-16e295908b0b",
   "metadata": {},
   "outputs": [
    {
     "name": "stdout",
     "output_type": "stream",
     "text": [
      "data cleaned successfully\n"
     ]
    }
   ],
   "source": [
    "#load data function\n",
    "def load_data(filename):\n",
    "    with open(filename, 'r') as f:\n",
    "        data = json.load(f)\n",
    "    return data\n",
    "\n",
    "def clean_data(data):\n",
    "    #remove data if product and customer names not present\n",
    "    data = [record for record in data if str(record['customer_name']).strip() and str(record['product']).strip()]\n",
    "\n",
    "    #remove data with missing and invalid rating\n",
    "    data = [record for record in data if record['rating'] in range(1,6)]\n",
    "\n",
    "    #replace invalid or missing feedback values with No feedback\n",
    "    for record in data:\n",
    "        if record.get('feedback') == \"\" or record.get('feedback') == None:\n",
    "            record['feedback'] = \"No Feedback\"\n",
    "    return data\n",
    "\n",
    "\n",
    "data = load_data(\"feedback_data.json\")\n",
    "data = clean_data(data)\n",
    "json.dump(data, open(\"cleaned_feedback_data.json\", 'w'), indent=4)\n",
    "print(\"data cleaned successfully\")"
   ]
  },
  {
   "cell_type": "code",
   "execution_count": null,
   "id": "e6fd262a-aa50-4b5a-aa63-4a4647ccb12e",
   "metadata": {},
   "outputs": [],
   "source": []
  }
 ],
 "metadata": {
  "kernelspec": {
   "display_name": "Python 3 (ipykernel)",
   "language": "python",
   "name": "python3"
  },
  "language_info": {
   "codemirror_mode": {
    "name": "ipython",
    "version": 3
   },
   "file_extension": ".py",
   "mimetype": "text/x-python",
   "name": "python",
   "nbconvert_exporter": "python",
   "pygments_lexer": "ipython3",
   "version": "3.13.2"
  }
 },
 "nbformat": 4,
 "nbformat_minor": 5
}
