{
 "cells": [
  {
   "cell_type": "markdown",
   "id": "8fba06a7-8b74-4206-bfb6-f08e80d7c42b",
   "metadata": {},
   "source": [
    "# HR Employee Record\n",
    "### Problem Statement: Clean the employee dataset by:\n",
    "    -Removing employees with missing or zero salary or age.\n",
    "    -Removing records with missing department or name.\n",
    "    -Standardizing job roles (e.g., lowercase or title case)."
   ]
  },
  {
   "cell_type": "code",
   "execution_count": 1,
   "id": "1cae9c04-58e1-4c51-857b-7973be4b2185",
   "metadata": {},
   "outputs": [],
   "source": [
    "import json"
   ]
  },
  {
   "cell_type": "code",
   "execution_count": 153,
   "id": "130faaaa-ad4f-41c8-895d-f09ed381f58e",
   "metadata": {},
   "outputs": [
    {
     "name": "stdout",
     "output_type": "stream",
     "text": [
      "data cleaned successfully\n"
     ]
    }
   ],
   "source": [
    "#load data function\n",
    "def load_data(filename):\n",
    "    with open(filename, 'r') as f:\n",
    "        data = json.load(f)\n",
    "    return data\n",
    "\n",
    "def clean_data(data):\n",
    "    keys_info = list(data[0].keys())\n",
    "    data = [record for record in data if all(str(record[key]).strip() for key in keys_info)] \n",
    "    data = [record for record in data if record.get('salary') not in [None, '', 'NA', 'null'] and record.get('age') not in [None, '', 'NA', 'null'] and int(record.get('salary',0)) > 0 and int(record.get('age',0)) > 0]\n",
    "    return data\n",
    "\n",
    "data = load_data(\"employee_data.json\")\n",
    "data = clean_data(data)\n",
    "json.dump(data, open(\"cleaned_employee_data.json\", 'w'), indent=4)\n",
    "print(\"data cleaned successfully\")"
   ]
  },
  {
   "cell_type": "code",
   "execution_count": null,
   "id": "e347415d-b6c7-49af-8d32-7322114b3acc",
   "metadata": {},
   "outputs": [],
   "source": []
  }
 ],
 "metadata": {
  "kernelspec": {
   "display_name": "Python 3 (ipykernel)",
   "language": "python",
   "name": "python3"
  },
  "language_info": {
   "codemirror_mode": {
    "name": "ipython",
    "version": 3
   },
   "file_extension": ".py",
   "mimetype": "text/x-python",
   "name": "python",
   "nbconvert_exporter": "python",
   "pygments_lexer": "ipython3",
   "version": "3.13.2"
  }
 },
 "nbformat": 4,
 "nbformat_minor": 5
}
