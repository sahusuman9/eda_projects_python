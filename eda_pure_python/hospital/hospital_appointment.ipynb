{
 "cells": [
  {
   "cell_type": "markdown",
   "id": "445581b2-dcce-42e1-8b64-59ce5ffa1580",
   "metadata": {},
   "source": [
    "# Health Clinic Appointments Dataset\n",
    "### Problem Statement: Fix the appointment data by:\n",
    "    -Removing records with missing patient names or doctors.\n",
    "    -Removing or flagging appointments with empty dates.\n",
    "    -Ensuring billed_amount is a valid number > 0."
   ]
  },
  {
   "cell_type": "code",
   "execution_count": 1,
   "id": "d7f51aaf-c534-4d64-92eb-9e7d83e3d65a",
   "metadata": {},
   "outputs": [],
   "source": [
    "import json"
   ]
  },
  {
   "cell_type": "code",
   "execution_count": 17,
   "id": "bae7afb2-f14c-4638-929c-295f52dd390d",
   "metadata": {},
   "outputs": [
    {
     "name": "stdout",
     "output_type": "stream",
     "text": [
      "data cleaned successfully\n"
     ]
    }
   ],
   "source": [
    "#load data function\n",
    "def load_data(filename):\n",
    "    with open(filename, 'r') as f:\n",
    "        data = json.load(f)\n",
    "    return data\n",
    "\n",
    "def clean_data(data):\n",
    "    data = [record for record in data if str(record['patient_name']).strip() and str(record['doctor']).strip()]\n",
    "    data = [record for record in data if str(record['billed_amount']).strip() and int(record.get('billed_amount', 0)) > 0]\n",
    "    for record in data:\n",
    "        if record.get('date') == \"\" or record.get('date') == None:\n",
    "            record['date'] = \"No date Available\"\n",
    "    return data\n",
    "\n",
    "data = load_data(\"clinic_data.json\")\n",
    "data = clean_data(data)\n",
    "json.dump(data, open(\"cleaned_hospital_data.json\", 'w'), indent=4)\n",
    "print(\"data cleaned successfully\")"
   ]
  },
  {
   "cell_type": "code",
   "execution_count": null,
   "id": "be0c5d32-1170-4e22-82e0-40ff84626ac9",
   "metadata": {},
   "outputs": [],
   "source": []
  }
 ],
 "metadata": {
  "kernelspec": {
   "display_name": "Python 3 (ipykernel)",
   "language": "python",
   "name": "python3"
  },
  "language_info": {
   "codemirror_mode": {
    "name": "ipython",
    "version": 3
   },
   "file_extension": ".py",
   "mimetype": "text/x-python",
   "name": "python",
   "nbconvert_exporter": "python",
   "pygments_lexer": "ipython3",
   "version": "3.13.2"
  }
 },
 "nbformat": 4,
 "nbformat_minor": 5
}
